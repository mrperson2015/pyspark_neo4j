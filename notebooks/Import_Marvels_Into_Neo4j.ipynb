{
 "cells": [
  {
   "cell_type": "markdown",
   "id": "f6a5f9a1",
   "metadata": {},
   "source": [
    "#  <center> Import Job : Process Marvels data into Spark and create Neo4j data. </center> "
   ]
  },
  {
   "cell_type": "code",
   "execution_count": 1,
   "id": "9f447d49",
   "metadata": {},
   "outputs": [],
   "source": [
    "# Imports\n",
    "\n",
    "import timeit\n",
    "from pyspark.sql import DataFrame\n",
    "from pyspark.sql import functions as F\n",
    "from pyspark.sql import SparkSession\n",
    "from pyspark.sql import types as T\n",
    "from pyspark.sql import Window\n",
    "from pyspark import SparkConf, SparkContext, StorageLevel\n",
    "from pyspark.sql import SparkSession\n",
    "import os\n",
    "\n",
    "# imports  - to connect to neo4j DB\n",
    "from py2neo import Graph,Node,Relationship\n",
    "\n",
    "# Draw the neo4j data\n",
    "##  from scripts.vis import draw"
   ]
  },
  {
   "cell_type": "markdown",
   "id": "76f47ce4",
   "metadata": {},
   "source": [
    "#### Initiate the timer"
   ]
  },
  {
   "cell_type": "code",
   "execution_count": 2,
   "id": "d53c4359",
   "metadata": {},
   "outputs": [
    {
     "name": "stdout",
     "output_type": "stream",
     "text": [
      "Start Time: 21579.948899\n"
     ]
    }
   ],
   "source": [
    "time_start = timeit.default_timer()\n",
    "print(\"Start Time: \" + str(time_start))"
   ]
  },
  {
   "cell_type": "code",
   "execution_count": 3,
   "id": "a1c717b5-f4dc-477c-a335-c60b901e541e",
   "metadata": {},
   "outputs": [],
   "source": [
    "os.environ[\"PYSPARK_SUBMIT_ARGS\"] = \"--jars /home/jovyan/jars/neo4j-connector-apache-spark_2.12-4.1.2_for_spark_3.jar pyspark-shell\""
   ]
  },
  {
   "cell_type": "code",
   "execution_count": 4,
   "id": "7eefb0c5",
   "metadata": {},
   "outputs": [
    {
     "name": "stderr",
     "output_type": "stream",
     "text": [
      "WARNING: An illegal reflective access operation has occurred\n",
      "WARNING: Illegal reflective access by org.apache.spark.unsafe.Platform (file:/usr/local/spark-3.1.2-bin-hadoop3.2/jars/spark-unsafe_2.12-3.1.2.jar) to constructor java.nio.DirectByteBuffer(long,int)\n",
      "WARNING: Please consider reporting this to the maintainers of org.apache.spark.unsafe.Platform\n",
      "WARNING: Use --illegal-access=warn to enable warnings of further illegal reflective access operations\n",
      "WARNING: All illegal access operations will be denied in a future release\n",
      "22/07/18 21:11:27 WARN NativeCodeLoader: Unable to load native-hadoop library for your platform... using builtin-java classes where applicable\n",
      "Using Spark's default log4j profile: org/apache/spark/log4j-defaults.properties\n",
      "Setting default log level to \"WARN\".\n",
      "To adjust logging level use sc.setLogLevel(newLevel). For SparkR, use setLogLevel(newLevel).\n",
      "22/07/18 21:11:28 WARN Utils: Service 'SparkUI' could not bind on port 4040. Attempting port 4041.\n"
     ]
    },
    {
     "name": "stdout",
     "output_type": "stream",
     "text": [
      "Get Spark Time: 2.2029655690021173\n",
      "spark version: 3.1.2\n"
     ]
    }
   ],
   "source": [
    "spark = SparkSession.builder.appName('Marvel Graph Test').getOrCreate()\n",
    "\n",
    "print(\"Get Spark Time: \" + str(timeit.default_timer() - time_start))\n",
    "print(f\"spark version: {spark.version}\")\n"
   ]
  },
  {
   "cell_type": "code",
   "execution_count": 5,
   "id": "1983c2c7",
   "metadata": {},
   "outputs": [],
   "source": [
    "marvel_graph_df = spark \\\n",
    "            .read \\\n",
    "            .text(r\"./data/Marvel-Graph.txt\") \\\n",
    "            .select(F.split(F.trim(F.col(\"value\")), \" \").alias(\"value_list\")) \\\n",
    "            .select((F.col(\"value_list\")[0]).alias(\"id\"),\n",
    "                    (F.col(\"value_list\"))) \\\n",
    "            .select(F.col(\"id\"),\n",
    "                    F.explode(F.col(\"value_list\")).alias(\"appeared_with\")) \\\n",
    "            .select(F.col(\"id\").cast(T.IntegerType()),\n",
    "                    F.col(\"appeared_with\").cast(T.IntegerType())) \\\n",
    "            .where(F.col(\"id\") != F.col(\"appeared_with\"))"
   ]
  },
  {
   "cell_type": "code",
   "execution_count": 6,
   "id": "d2740a14",
   "metadata": {},
   "outputs": [
    {
     "name": "stdout",
     "output_type": "stream",
     "text": [
      "+----+-------------+\n",
      "|  id|appeared_with|\n",
      "+----+-------------+\n",
      "|5988|          748|\n",
      "|5988|         1722|\n",
      "|5988|         3752|\n",
      "|5988|         4655|\n",
      "|5988|         5743|\n",
      "+----+-------------+\n",
      "only showing top 5 rows\n",
      "\n"
     ]
    }
   ],
   "source": [
    "marvel_graph_df.show(5)"
   ]
  },
  {
   "cell_type": "markdown",
   "id": "9afe068a",
   "metadata": {},
   "source": [
    "##### <b> Import Marvels names </b>"
   ]
  },
  {
   "cell_type": "code",
   "execution_count": 7,
   "id": "e33086d4",
   "metadata": {},
   "outputs": [],
   "source": [
    "schema_names = T.StructType() \\\n",
    "        .add(nullable=False, data_type=T.IntegerType(), field=\"id\") \\\n",
    "        .add(nullable=False, data_type=T.StringType(), field=\"name\")\n",
    "\n",
    "marvel_names_df = spark \\\n",
    "        .read \\\n",
    "        .option(\"header\", \"false\") \\\n",
    "        .option(\"sep\", \" \") \\\n",
    "        .csv(path=r\"./data/Marvel-Names.txt\", schema=schema_names)"
   ]
  },
  {
   "cell_type": "code",
   "execution_count": 8,
   "id": "d35ef7b5",
   "metadata": {},
   "outputs": [
    {
     "name": "stdout",
     "output_type": "stream",
     "text": [
      "+---+--------------------+\n",
      "| id|                name|\n",
      "+---+--------------------+\n",
      "|  1|24-HOUR MAN/EMMANUEL|\n",
      "|  2|3-D MAN/CHARLES CHAN|\n",
      "|  3|    4-D MAN/MERCURIO|\n",
      "|  4|             8-BALL/|\n",
      "|  5|                   A|\n",
      "+---+--------------------+\n",
      "only showing top 5 rows\n",
      "\n"
     ]
    }
   ],
   "source": [
    "marvel_names_df.show(5)"
   ]
  },
  {
   "cell_type": "code",
   "execution_count": 9,
   "id": "7bd9db47",
   "metadata": {},
   "outputs": [
    {
     "name": "stdout",
     "output_type": "stream",
     "text": [
      "+-------------+-----+\n",
      "|appeared_with|count|\n",
      "+-------------+-----+\n",
      "|         1645|   19|\n",
      "|         4935|  432|\n",
      "|         1959|  482|\n",
      "|         2122|   50|\n",
      "|         2659|   67|\n",
      "+-------------+-----+\n",
      "only showing top 5 rows\n",
      "\n"
     ]
    }
   ],
   "source": [
    "marvel_graph_df \\\n",
    "        .groupby(F.col(\"appeared_with\")) \\\n",
    "        .count().show(5)"
   ]
  },
  {
   "cell_type": "code",
   "execution_count": 10,
   "id": "3c68c719",
   "metadata": {},
   "outputs": [],
   "source": [
    "hero_popularity = marvel_graph_df \\\n",
    "        .groupby(F.col(\"appeared_with\")) \\\n",
    "        .count() \\\n",
    "        .join(marvel_names_df, F.col(\"appeared_with\") == F.col(\"id\"), \"inner\") \\\n",
    "        .drop(F.col(\"appeared_with\")) \\\n",
    "        .orderBy(F.col(\"count\").desc()) \\\n",
    "        .select(F.col(\"id\"),\n",
    "                F.col(\"name\"),\n",
    "                F.col(\"count\").alias(\"appearances\"),\n",
    "                F.row_number()\n",
    "                .over(Window\n",
    "                      .orderBy(F.col(\"count\").desc()))\n",
    "                .alias(\"popularity_index\"))"
   ]
  },
  {
   "cell_type": "code",
   "execution_count": 11,
   "id": "c21d97a2",
   "metadata": {},
   "outputs": [
    {
     "name": "stderr",
     "output_type": "stream",
     "text": [
      "22/07/18 21:11:31 WARN WindowExec: No Partition Defined for Window operation! Moving all data to a single partition, this can cause serious performance degradation.\n"
     ]
    },
    {
     "name": "stdout",
     "output_type": "stream",
     "text": [
      "+----+--------------------+-----------+----------------+\n",
      "|  id|                name|appearances|popularity_index|\n",
      "+----+--------------------+-----------+----------------+\n",
      "| 859|     CAPTAIN AMERICA|       1933|               1|\n",
      "|5306|SPIDER-MAN/PETER PAR|       1741|               2|\n",
      "|2664|IRON MAN/TONY STARK |       1528|               3|\n",
      "|5716|THING/BENJAMIN J. GR|       1426|               4|\n",
      "|6306|    WOLVERINE/LOGAN |       1394|               5|\n",
      "+----+--------------------+-----------+----------------+\n",
      "only showing top 5 rows\n",
      "\n"
     ]
    }
   ],
   "source": [
    "hero_popularity.orderBy(F.col(\"popularity_index\")).show(5)"
   ]
  },
  {
   "cell_type": "markdown",
   "id": "d514e547",
   "metadata": {},
   "source": [
    "##### Write nodes and edges into Neo4j database\n"
   ]
  },
  {
   "cell_type": "code",
   "execution_count": 12,
   "id": "ab5b3fc9",
   "metadata": {},
   "outputs": [
    {
     "name": "stderr",
     "output_type": "stream",
     "text": [
      "22/07/18 21:11:33 WARN WindowExec: No Partition Defined for Window operation! Moving all data to a single partition, this can cause serious performance degradation.\n",
      "                                                                                \r"
     ]
    }
   ],
   "source": [
    "hero_popularity \\\n",
    "        .write \\\n",
    "        .format(\"org.neo4j.spark.DataSource\") \\\n",
    "        .option(\"url\", \"bolt://neo4j:7687\") \\\n",
    "        .option(\"authentication.type\", \"basic\") \\\n",
    "        .option(\"authentication.basic.username\", \"neo4j\") \\\n",
    "        .option(\"authentication.basic.password\", \"test\") \\\n",
    "        .option(\"labels\", \":Hero\") \\\n",
    "        .option(\"node.keys\", \"id\") \\\n",
    "        .mode(\"Overwrite\") \\\n",
    "        .save()"
   ]
  },
  {
   "cell_type": "code",
   "execution_count": 13,
   "id": "4739e43a",
   "metadata": {},
   "outputs": [],
   "source": [
    "x = marvel_graph_df \\\n",
    "        .join(hero_popularity, marvel_graph_df.id == hero_popularity.id, \"inner\") \\\n",
    "        .where(F.col(\"popularity_index\") < 2) \\\n",
    "        .select(marvel_graph_df.id,\n",
    "                F.col(\"appeared_with\"))"
   ]
  },
  {
   "cell_type": "code",
   "execution_count": 14,
   "id": "d355762e",
   "metadata": {},
   "outputs": [
    {
     "name": "stderr",
     "output_type": "stream",
     "text": [
      "22/07/18 21:11:51 WARN WindowExec: No Partition Defined for Window operation! Moving all data to a single partition, this can cause serious performance degradation.\n"
     ]
    },
    {
     "name": "stdout",
     "output_type": "stream",
     "text": [
      "+---+-------------+\n",
      "| id|appeared_with|\n",
      "+---+-------------+\n",
      "|859|         1369|\n",
      "|859|         3198|\n",
      "|859|          478|\n",
      "|859|         1365|\n",
      "|859|          472|\n",
      "|859|         4397|\n",
      "+---+-------------+\n",
      "only showing top 6 rows\n",
      "\n"
     ]
    }
   ],
   "source": [
    "x.show(6)"
   ]
  },
  {
   "cell_type": "code",
   "execution_count": 15,
   "id": "4ec917f2",
   "metadata": {},
   "outputs": [
    {
     "name": "stderr",
     "output_type": "stream",
     "text": [
      "22/07/18 21:11:52 WARN WindowExec: No Partition Defined for Window operation! Moving all data to a single partition, this can cause serious performance degradation.\n",
      "                                                                                \r"
     ]
    }
   ],
   "source": [
    "x \\\n",
    "    .write \\\n",
    "    .format(\"org.neo4j.spark.DataSource\") \\\n",
    "    .option(\"url\", \"bolt://neo4j:7687\") \\\n",
    "    .option(\"authentication.type\", \"basic\") \\\n",
    "    .option(\"authentication.basic.username\", \"neo4j\") \\\n",
    "    .option(\"authentication.basic.password\", \"test\") \\\n",
    "    .option(\"relationship\", \"KNOWS\") \\\n",
    "    .option(\"relationship.save.strategy\", \"keys\") \\\n",
    "    .option(\"relationship.source.labels\", \":Hero\") \\\n",
    "    .option(\"relationship.source.node.keys\", \"id:id\") \\\n",
    "    .option(\"relationship.source.save.mode\", \"Overwrite\") \\\n",
    "    .option(\"relationship.target.labels\", \":Hero\") \\\n",
    "    .option(\"relationship.target.node.keys\", \"appeared_with:id\") \\\n",
    "    .option(\"relationship.target.save.mode\", \"Overwrite\") \\\n",
    "    .mode(\"Overwrite\") \\\n",
    "    .save()"
   ]
  },
  {
   "cell_type": "code",
   "execution_count": 16,
   "id": "fd51691c",
   "metadata": {},
   "outputs": [
    {
     "name": "stdout",
     "output_type": "stream",
     "text": [
      "Run Time: 37.78631800199946s\n"
     ]
    }
   ],
   "source": [
    "## Stop the timer\n",
    "time_stop = timeit.default_timer()\n",
    "print(f\"Run Time: {time_stop - time_start}s\")\n"
   ]
  }
 ],
 "metadata": {
  "kernelspec": {
   "display_name": "Python 3 (ipykernel)",
   "language": "python",
   "name": "python3"
  },
  "language_info": {
   "codemirror_mode": {
    "name": "ipython",
    "version": 3
   },
   "file_extension": ".py",
   "mimetype": "text/x-python",
   "name": "python",
   "nbconvert_exporter": "python",
   "pygments_lexer": "ipython3",
   "version": "3.9.7"
  }
 },
 "nbformat": 4,
 "nbformat_minor": 5
}
