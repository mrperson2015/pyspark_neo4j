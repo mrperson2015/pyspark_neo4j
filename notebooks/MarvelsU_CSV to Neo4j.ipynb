{
 "cells": [
  {
   "cell_type": "markdown",
   "id": "cfeb0af6",
   "metadata": {},
   "source": [
    "##  <center> Import Job : Marvels CSV Files data into Spark and create Neo4j data. </center> "
   ]
  },
  {
   "cell_type": "markdown",
   "id": "66de48dd",
   "metadata": {},
   "source": [
    "## Imports"
   ]
  },
  {
   "cell_type": "code",
   "execution_count": 1,
   "id": "e41b032e",
   "metadata": {},
   "outputs": [],
   "source": [
    "# Imports\n",
    "\n",
    "import timeit\n",
    "from pyspark.sql import DataFrame\n",
    "from pyspark.sql import functions as F\n",
    "from pyspark.sql import SparkSession\n",
    "from pyspark.sql import types as T\n",
    "from pyspark.sql import Window\n",
    "from pyspark import SparkConf, SparkContext, StorageLevel\n",
    "from pyspark.sql import SparkSession\n",
    "import os\n",
    "from pyspark.sql.types import StructType,StructField, StringType\n",
    "\n",
    "# imports  - to connect to neo4j DB\n",
    "from py2neo import Graph,Node,Relationship\n",
    "\n",
    "# Draw the neo4j data\n",
    "##  from scripts.vis import draw"
   ]
  },
  {
   "cell_type": "code",
   "execution_count": 2,
   "id": "9bc38141",
   "metadata": {},
   "outputs": [
    {
     "name": "stdout",
     "output_type": "stream",
     "text": [
      "Start Time: 21254.533222461\n"
     ]
    }
   ],
   "source": [
    "time_start = timeit.default_timer()\n",
    "print(\"Start Time: \" + str(time_start))"
   ]
  },
  {
   "cell_type": "code",
   "execution_count": 3,
   "id": "8191f8c9-b21c-413a-86ab-06c5b5ef5a0d",
   "metadata": {},
   "outputs": [],
   "source": [
    "os.environ[\"PYSPARK_SUBMIT_ARGS\"] = \"--jars /home/jovyan/jars/neo4j-connector-apache-spark_2.12-4.1.2_for_spark_3.jar pyspark-shell\""
   ]
  },
  {
   "cell_type": "code",
   "execution_count": 4,
   "id": "e2621ab8",
   "metadata": {},
   "outputs": [
    {
     "name": "stderr",
     "output_type": "stream",
     "text": [
      "WARNING: An illegal reflective access operation has occurred\n",
      "WARNING: Illegal reflective access by org.apache.spark.unsafe.Platform (file:/usr/local/spark-3.1.2-bin-hadoop3.2/jars/spark-unsafe_2.12-3.1.2.jar) to constructor java.nio.DirectByteBuffer(long,int)\n",
      "WARNING: Please consider reporting this to the maintainers of org.apache.spark.unsafe.Platform\n",
      "WARNING: Use --illegal-access=warn to enable warnings of further illegal reflective access operations\n",
      "WARNING: All illegal access operations will be denied in a future release\n",
      "22/07/18 21:06:02 WARN NativeCodeLoader: Unable to load native-hadoop library for your platform... using builtin-java classes where applicable\n",
      "Using Spark's default log4j profile: org/apache/spark/log4j-defaults.properties\n",
      "Setting default log level to \"WARN\".\n",
      "To adjust logging level use sc.setLogLevel(newLevel). For SparkR, use setLogLevel(newLevel).\n",
      "22/07/18 21:06:02 WARN Utils: Service 'SparkUI' could not bind on port 4040. Attempting port 4041.\n",
      "22/07/18 21:06:02 WARN Utils: Service 'SparkUI' could not bind on port 4041. Attempting port 4042.\n"
     ]
    },
    {
     "name": "stdout",
     "output_type": "stream",
     "text": [
      "Get Spark Time: 2.2902986530025373\n",
      "spark version: 3.1.2\n"
     ]
    }
   ],
   "source": [
    "spark = SparkSession.builder.appName('Marvel Graph CSV test data').getOrCreate()\n",
    "\n",
    "print(\"Get Spark Time: \" + str(timeit.default_timer() - time_start))\n",
    "print(f\"spark version: {spark.version}\")\n"
   ]
  },
  {
   "cell_type": "code",
   "execution_count": 5,
   "id": "9ea80575",
   "metadata": {},
   "outputs": [],
   "source": [
    "## Read Nodes data\n",
    "marvel_nodes_df = spark \\\n",
    "            .read \\\n",
    "            .csv(r\"./data/nodes.csv\",header = True)"
   ]
  },
  {
   "cell_type": "code",
   "execution_count": 6,
   "id": "53399267",
   "metadata": {},
   "outputs": [],
   "source": [
    "marvel_nodes_df = marvel_nodes_df.withColumn(\"node\",F.trim(F.col(\"node\")))"
   ]
  },
  {
   "cell_type": "code",
   "execution_count": 7,
   "id": "1ef85fad",
   "metadata": {},
   "outputs": [
    {
     "name": "stdout",
     "output_type": "stream",
     "text": [
      "+--------------------+-----+\n",
      "|                node| type|\n",
      "+--------------------+-----+\n",
      "|             2001 10|comic|\n",
      "|              2001 8|comic|\n",
      "|              2001 9|comic|\n",
      "|24-HOUR MAN/EMMANUEL| hero|\n",
      "|3-D MAN/CHARLES CHAN| hero|\n",
      "+--------------------+-----+\n",
      "only showing top 5 rows\n",
      "\n"
     ]
    }
   ],
   "source": [
    "marvel_nodes_df.show(5)"
   ]
  },
  {
   "cell_type": "code",
   "execution_count": 8,
   "id": "92c2aec9",
   "metadata": {},
   "outputs": [
    {
     "name": "stdout",
     "output_type": "stream",
     "text": [
      "+--------------------+------+\n",
      "|                hero| comic|\n",
      "+--------------------+------+\n",
      "|24-HOUR MAN/EMMANUEL|AA2 35|\n",
      "|3-D MAN/CHARLES CHAN| AVF 4|\n",
      "|3-D MAN/CHARLES CHAN| AVF 5|\n",
      "|3-D MAN/CHARLES CHAN| COC 1|\n",
      "|3-D MAN/CHARLES CHAN|H2 251|\n",
      "+--------------------+------+\n",
      "only showing top 5 rows\n",
      "\n"
     ]
    }
   ],
   "source": [
    "## Read Edges data\n",
    "marvel_edges_df = spark.read.csv(r\"./data/edges.csv\",header = True)\n",
    "\n",
    "marvel_edges_df = marvel_edges_df.withColumn(\"hero\",F.trim(F.col(\"hero\"))).withColumn(\"comic\",F.trim(F.col(\"comic\")))\n",
    "marvel_edges_df.show(5)"
   ]
  },
  {
   "cell_type": "code",
   "execution_count": 9,
   "id": "fee5ebc5",
   "metadata": {},
   "outputs": [
    {
     "name": "stdout",
     "output_type": "stream",
     "text": [
      "+--------------------+--------------------+\n",
      "|               hero1|               hero2|\n",
      "+--------------------+--------------------+\n",
      "|       LITTLE, ABNER|      PRINCESS ZANDA|\n",
      "|       LITTLE, ABNER|BLACK PANTHER/T'CHAL|\n",
      "|BLACK PANTHER/T'CHAL|      PRINCESS ZANDA|\n",
      "|       LITTLE, ABNER|      PRINCESS ZANDA|\n",
      "|       LITTLE, ABNER|BLACK PANTHER/T'CHAL|\n",
      "+--------------------+--------------------+\n",
      "only showing top 5 rows\n",
      "\n"
     ]
    }
   ],
   "source": [
    "## Read hero network data\n",
    "marvel_network_df = spark.read.csv(r\"./data/hero-network.csv\",header= True)\n",
    "marvel_network_df = marvel_network_df.withColumn(\"hero1\",F.trim(F.col(\"hero1\"))).withColumn(\"hero2\",F.trim(F.col(\"hero2\")))\n",
    "\n",
    "marvel_network_df.show(5)"
   ]
  },
  {
   "cell_type": "markdown",
   "id": "4fa771f5",
   "metadata": {},
   "source": [
    "## PreProcessing and Pre- Analysis"
   ]
  },
  {
   "cell_type": "markdown",
   "id": "9f395680",
   "metadata": {},
   "source": [
    "### Syncing hero and comic names across all the 3 data files (node, edges, hero network) and get the un matched names."
   ]
  },
  {
   "cell_type": "markdown",
   "id": "b1942d22",
   "metadata": {},
   "source": [
    "##### Check if all the hero networks does exists in nodes(hero data)"
   ]
  },
  {
   "cell_type": "code",
   "execution_count": 10,
   "id": "cd8d27ba",
   "metadata": {},
   "outputs": [
    {
     "name": "stdout",
     "output_type": "stream",
     "text": [
      "+--------------------+\n",
      "|               hero1|\n",
      "+--------------------+\n",
      "|               BLADE|\n",
      "|SPIDER-MAN/PETER PAR|\n",
      "|               SABRE|\n",
      "+--------------------+\n",
      "\n"
     ]
    }
   ],
   "source": [
    "hero_df = marvel_nodes_df.select(F.col(\"node\")).where(F.col(\"type\") == 'hero')\n",
    "\n",
    "## Un Matched hero1 names\n",
    "marvel_network_df.select(\"hero1\").distinct() \\\n",
    ".join(hero_df,F.col(\"hero1\") == F.col(\"node\"),\"anti\").show()"
   ]
  },
  {
   "cell_type": "code",
   "execution_count": 11,
   "id": "342d8bbb",
   "metadata": {},
   "outputs": [
    {
     "name": "stdout",
     "output_type": "stream",
     "text": [
      "+--------------------+\n",
      "|               hero2|\n",
      "+--------------------+\n",
      "|               BLADE|\n",
      "|SPIDER-MAN/PETER PAR|\n",
      "|               SABRE|\n",
      "+--------------------+\n",
      "\n"
     ]
    }
   ],
   "source": [
    "## Un Matched hero2 names\n",
    "marvel_network_df.select(\"hero2\").distinct() \\\n",
    ".join(hero_df,F.col(\"hero2\") == F.col(\"node\"),\"anti\").show()"
   ]
  },
  {
   "cell_type": "markdown",
   "id": "99785fe2",
   "metadata": {},
   "source": [
    "##### Check if all the hero networks does exists in edges(edges data)"
   ]
  },
  {
   "cell_type": "code",
   "execution_count": 12,
   "id": "be14e242",
   "metadata": {},
   "outputs": [
    {
     "name": "stdout",
     "output_type": "stream",
     "text": [
      "+--------------------+\n",
      "|                hero|\n",
      "+--------------------+\n",
      "|SPIDER-MAN/PETER ...|\n",
      "+--------------------+\n",
      "\n"
     ]
    }
   ],
   "source": [
    "## Un Matched hero2 names\n",
    "marvel_edges_df.select(\"hero\").distinct() \\\n",
    ".join(hero_df,F.col(\"hero\") == F.col(\"node\"),\"anti\").show()"
   ]
  },
  {
   "cell_type": "markdown",
   "id": "032d0bca",
   "metadata": {},
   "source": [
    "### *** Cleaning data ***\n",
    "\n",
    "### Correcting the  hero names values in Hero network dataframe\n"
   ]
  },
  {
   "cell_type": "code",
   "execution_count": 13,
   "id": "a0cf6fa3",
   "metadata": {},
   "outputs": [],
   "source": [
    "## Cleaning Nodes data\n",
    "marvel_nodes_df = marvel_nodes_df.withColumn(\"node\",F.when(F.col(\"node\") == 'SPIDER-MAN/PETER PARKERKER', \\\n",
    "                                                           F.lit(\"SPIDER-MAN/PETER PARKER\")).otherwise(marvel_nodes_df.node))"
   ]
  },
  {
   "cell_type": "markdown",
   "id": "a43a5537",
   "metadata": {},
   "source": [
    "###### Cleaning Network data"
   ]
  },
  {
   "cell_type": "code",
   "execution_count": 14,
   "id": "3e7e668d",
   "metadata": {},
   "outputs": [],
   "source": [
    "marvel_network_df = marvel_network_df.withColumn(\"hero1\",F.when(F.col(\"hero1\") == 'SPIDER-MAN/PETER PAR', \\\n",
    "                                                                F.lit(\"SPIDER-MAN/PETER PARKER\")) \\\n",
    "                                                         .when(F.col(\"hero1\") == 'BLADE', \\\n",
    "                                                                F.lit(\"BLADE//\")) \\\n",
    "                                                         .when(F.col(\"hero1\") == 'SABRE', \\\n",
    "                                                                F.lit(\"SABRE//\"))\n",
    "                                                         .otherwise(marvel_network_df.hero1)) \\\n",
    "                                    .withColumn(\"hero2\",F.when(F.col(\"hero2\") == 'SPIDER-MAN/PETER PAR', \\\n",
    "                                                                F.lit(\"SPIDER-MAN/PETER PARKER\")) \\\n",
    "                                                         .when(F.col(\"hero2\") == 'BLADE', \\\n",
    "                                                                F.lit(\"BLADE//\")) \\\n",
    "                                                         .when(F.col(\"hero2\") == 'SABRE', \\\n",
    "                                                                F.lit(\"SABRE//\"))\n",
    "                                                         .otherwise(marvel_network_df.hero2))"
   ]
  },
  {
   "cell_type": "code",
   "execution_count": 15,
   "id": "fff3614e",
   "metadata": {},
   "outputs": [
    {
     "name": "stdout",
     "output_type": "stream",
     "text": [
      "Total Unique nodes: 19090\n"
     ]
    }
   ],
   "source": [
    "nodes_count = marvel_nodes_df.select(F.col(\"node\")).distinct().count()\n",
    "print(f\"Total Unique nodes: {nodes_count}\")\n"
   ]
  },
  {
   "cell_type": "code",
   "execution_count": 16,
   "id": "70a344d3",
   "metadata": {},
   "outputs": [
    {
     "name": "stdout",
     "output_type": "stream",
     "text": [
      "+-----+-----+\n",
      "| type|count|\n",
      "+-----+-----+\n",
      "|comic|12651|\n",
      "| hero| 6439|\n",
      "+-----+-----+\n",
      "\n"
     ]
    }
   ],
   "source": [
    "# Node types\n",
    "marvel_nodes_df.groupBy(F.col(\"type\")).count().show()"
   ]
  },
  {
   "cell_type": "code",
   "execution_count": 17,
   "id": "dd3504a3",
   "metadata": {},
   "outputs": [
    {
     "data": {
      "text/plain": [
       "False"
      ]
     },
     "execution_count": 17,
     "metadata": {},
     "output_type": "execute_result"
    }
   ],
   "source": [
    "#check duplicates in marvels node data:\n",
    "\n",
    "(marvel_nodes_df.select(F.col(\"node\")).count() > marvel_nodes_df.dropDuplicates([\"node\"]).count())"
   ]
  },
  {
   "cell_type": "code",
   "execution_count": 18,
   "id": "52deac53",
   "metadata": {},
   "outputs": [
    {
     "data": {
      "text/plain": [
       "6439"
      ]
     },
     "execution_count": 18,
     "metadata": {},
     "output_type": "execute_result"
    }
   ],
   "source": [
    "## Unique Hero's in Edges data\n",
    "marvel_edges_df.select(\"hero\").distinct().count()"
   ]
  },
  {
   "cell_type": "code",
   "execution_count": 19,
   "id": "72cc197d",
   "metadata": {},
   "outputs": [
    {
     "data": {
      "text/plain": [
       "12651"
      ]
     },
     "execution_count": 19,
     "metadata": {},
     "output_type": "execute_result"
    }
   ],
   "source": [
    "## Unique comic's in Edges data\n",
    "marvel_edges_df.select(\"comic\").distinct().count()"
   ]
  },
  {
   "cell_type": "code",
   "execution_count": 20,
   "id": "20906439",
   "metadata": {},
   "outputs": [
    {
     "name": "stdout",
     "output_type": "stream",
     "text": [
      "+--------------------+-----+\n",
      "|               hero1|count|\n",
      "+--------------------+-----+\n",
      "|     CAPTAIN AMERICA| 8149|\n",
      "|SPIDER-MAN/PETER ...| 6652|\n",
      "| IRON MAN/TONY STARK| 5850|\n",
      "|THOR/DR. DONALD BLAK| 5712|\n",
      "|THING/BENJAMIN J. GR| 5369|\n",
      "+--------------------+-----+\n",
      "only showing top 5 rows\n",
      "\n"
     ]
    }
   ],
   "source": [
    "## Hero network data analysis -Top 5 Networks\n",
    "marvel_network_df.groupBy(\"hero1\").count().sort(F.desc(\"count\")).show(5)"
   ]
  },
  {
   "cell_type": "code",
   "execution_count": 21,
   "id": "83b20679",
   "metadata": {},
   "outputs": [
    {
     "name": "stdout",
     "output_type": "stream",
     "text": [
      "2232 duplicate relations found in hero network data where hero1 and hero2 are same\n"
     ]
    }
   ],
   "source": [
    "## Check if same name appeares with network data.(Valid duplicates in network)\n",
    "marvel_network_df = marvel_network_df.withColumn(\"duplicate_network\",F.when((marvel_network_df.hero1 == marvel_network_df.hero2),F.lit(\"True\")).otherwise(F.lit(\"False\")))\n",
    "duplicate_count = marvel_network_df.where(F.col(\"duplicate_network\") == 'True').count()\n",
    "print(f\"{duplicate_count} duplicate relations found in hero network data where hero1 and hero2 are same\")"
   ]
  },
  {
   "cell_type": "code",
   "execution_count": 22,
   "id": "f58545e4",
   "metadata": {},
   "outputs": [
    {
     "name": "stdout",
     "output_type": "stream",
     "text": [
      "+-----------------+------+\n",
      "|duplicate_network| count|\n",
      "+-----------------+------+\n",
      "|            False|572235|\n",
      "|             True|  2232|\n",
      "+-----------------+------+\n",
      "\n"
     ]
    }
   ],
   "source": [
    "marvel_network_df.groupBy(F.col(\"duplicate_network\")).count().show()"
   ]
  },
  {
   "cell_type": "code",
   "execution_count": 23,
   "id": "3fecf150",
   "metadata": {},
   "outputs": [
    {
     "name": "stdout",
     "output_type": "stream",
     "text": [
      "+--------------------+--------------------+-----------------+\n",
      "|               hero1|               hero2|duplicate_network|\n",
      "+--------------------+--------------------+-----------------+\n",
      "|MISS AMERICA/MADELIN|MISS AMERICA/MADELIN|             True|\n",
      "|MISS AMERICA/MADELIN|MISS AMERICA/MADELIN|             True|\n",
      "+--------------------+--------------------+-----------------+\n",
      "only showing top 2 rows\n",
      "\n"
     ]
    }
   ],
   "source": [
    "## Sample duplicate data\n",
    "marvel_network_df.where(F.col(\"duplicate_network\") == 'True').show(2)"
   ]
  },
  {
   "cell_type": "markdown",
   "id": "8e5143d4",
   "metadata": {},
   "source": [
    "##### Dropping same networks (hero1 = hero2)"
   ]
  },
  {
   "cell_type": "code",
   "execution_count": 24,
   "id": "0c53ae6c",
   "metadata": {},
   "outputs": [
    {
     "name": "stdout",
     "output_type": "stream",
     "text": [
      "+-------------+--------------------+\n",
      "|        hero1|               hero2|\n",
      "+-------------+--------------------+\n",
      "|LITTLE, ABNER|      PRINCESS ZANDA|\n",
      "|LITTLE, ABNER|BLACK PANTHER/T'CHAL|\n",
      "+-------------+--------------------+\n",
      "only showing top 2 rows\n",
      "\n"
     ]
    }
   ],
   "source": [
    "##drop duplicates\n",
    "marvel_hero_network_unique_df = marvel_network_df.where(F.col(\"duplicate_network\") == 'False').drop(F.col(\"duplicate_network\"))\n",
    "marvel_hero_network_unique_df.show(2)"
   ]
  },
  {
   "cell_type": "markdown",
   "id": "6c1b610c",
   "metadata": {},
   "source": [
    "#### removing duplicates in network records"
   ]
  },
  {
   "cell_type": "code",
   "execution_count": 25,
   "id": "1f390c67",
   "metadata": {},
   "outputs": [
    {
     "data": {
      "text/plain": [
       "224099"
      ]
     },
     "execution_count": 25,
     "metadata": {},
     "output_type": "execute_result"
    }
   ],
   "source": [
    "marvel_hero_network_final_df = marvel_hero_network_unique_df.distinct()\n",
    "marvel_hero_network_final_df.count()"
   ]
  },
  {
   "cell_type": "code",
   "execution_count": 26,
   "id": "87b0b5cf",
   "metadata": {},
   "outputs": [
    {
     "name": "stderr",
     "output_type": "stream",
     "text": [
      "                                                                                \r"
     ]
    },
    {
     "data": {
      "text/plain": [
       "6206"
      ]
     },
     "execution_count": 26,
     "metadata": {},
     "output_type": "execute_result"
    }
   ],
   "source": [
    "marvel_hero_network_final_df.select(\"hero1\").distinct().count()"
   ]
  },
  {
   "cell_type": "markdown",
   "id": "4f2bf533",
   "metadata": {},
   "source": [
    "# Prepare data to import into NEO4J database"
   ]
  },
  {
   "cell_type": "markdown",
   "id": "e708155b",
   "metadata": {},
   "source": [
    "###### Import Nodes"
   ]
  },
  {
   "cell_type": "code",
   "execution_count": 27,
   "id": "a0651de1",
   "metadata": {},
   "outputs": [
    {
     "name": "stdout",
     "output_type": "stream",
     "text": [
      "+--------------------+----+------+\n",
      "|                name|type|nodeId|\n",
      "+--------------------+----+------+\n",
      "|24-HOUR MAN/EMMANUEL|hero|     1|\n",
      "|3-D MAN/CHARLES CHAN|hero|     2|\n",
      "|    4-D MAN/MERCURIO|hero|     3|\n",
      "|             8-BALL/|hero|     4|\n",
      "|        ABBOTT, JACK|hero|     5|\n",
      "+--------------------+----+------+\n",
      "only showing top 5 rows\n",
      "\n"
     ]
    }
   ],
   "source": [
    "## Extract all the heros\n",
    "marvels_hero_node_df = marvel_nodes_df.where(F.col(\"type\") == 'hero')\n",
    "marvels_hero_node_df = marvels_hero_node_df.withColumnRenamed(\"node\",\"name\").withColumn(\"nodeId\",F.monotonically_increasing_id()+1)\n",
    "marvels_hero_node_df.show(5)"
   ]
  },
  {
   "cell_type": "code",
   "execution_count": 28,
   "id": "c22672b1",
   "metadata": {},
   "outputs": [
    {
     "name": "stdout",
     "output_type": "stream",
     "text": [
      "+-------+-----+------+\n",
      "|   name| type|nodeId|\n",
      "+-------+-----+------+\n",
      "|2001 10|comic|     1|\n",
      "| 2001 8|comic|     2|\n",
      "| 2001 9|comic|     3|\n",
      "|  A '00|comic|     4|\n",
      "|  A '01|comic|     5|\n",
      "+-------+-----+------+\n",
      "only showing top 5 rows\n",
      "\n"
     ]
    }
   ],
   "source": [
    "## Extract all the comics\n",
    "marvels_comic_node_df = marvel_nodes_df.where(F.col(\"type\") == 'comic')\n",
    "marvels_comic_node_df = marvels_comic_node_df.withColumnRenamed(\"node\",\"name\").withColumn(\"nodeId\",F.monotonically_increasing_id()+1)\n",
    "marvels_comic_node_df.show(5)"
   ]
  },
  {
   "cell_type": "markdown",
   "id": "05bec0f2",
   "metadata": {},
   "source": [
    "#### Write Hero Nodes"
   ]
  },
  {
   "cell_type": "code",
   "execution_count": 29,
   "id": "70faf9ba",
   "metadata": {},
   "outputs": [
    {
     "name": "stderr",
     "output_type": "stream",
     "text": [
      "                                                                                \r"
     ]
    }
   ],
   "source": [
    "# ## Write Hero nodes\n",
    "marvels_hero_node_df \\\n",
    "        .write \\\n",
    "        .format(\"org.neo4j.spark.DataSource\") \\\n",
    "        .option(\"url\", \"bolt://neo4j:7687\") \\\n",
    "        .option(\"authentication.type\", \"basic\") \\\n",
    "        .option(\"authentication.basic.username\", \"neo4j\") \\\n",
    "        .option(\"authentication.basic.password\", \"test\") \\\n",
    "        .option(\"labels\", \":Hero\") \\\n",
    "        .option(\"node.keys\", \"nodeId\") \\\n",
    "        .mode(\"Overwrite\") \\\n",
    "        .save()"
   ]
  },
  {
   "cell_type": "markdown",
   "id": "4ad0b3b1",
   "metadata": {},
   "source": [
    "#### Write Comin nodes"
   ]
  },
  {
   "cell_type": "code",
   "execution_count": 30,
   "id": "d4678c2d",
   "metadata": {},
   "outputs": [],
   "source": [
    "# ## Write comic nodes\n",
    "# marvels_comic_node_df \\\n",
    "#         .write \\\n",
    "#         .format(\"org.neo4j.spark.DataSource\") \\\n",
    "#         .option(\"url\", \"bolt://neo4j:7687\") \\\n",
    "#         .option(\"authentication.type\", \"basic\") \\\n",
    "#         .option(\"authentication.basic.username\", \"neo4j\") \\\n",
    "#         .option(\"authentication.basic.password\", \"test\") \\\n",
    "#         .option(\"labels\", \":Comic\") \\\n",
    "#         .option(\"node.keys\", \"nodeId\") \\\n",
    "#         .mode(\"Overwrite\") \\\n",
    "#         .save()\n"
   ]
  },
  {
   "cell_type": "markdown",
   "id": "4b8ed7e2",
   "metadata": {},
   "source": [
    "## Write Hero --> Appeared In-> Comic (Relations/Edges )\n"
   ]
  },
  {
   "cell_type": "code",
   "execution_count": 31,
   "id": "7ba3e868",
   "metadata": {},
   "outputs": [
    {
     "name": "stdout",
     "output_type": "stream",
     "text": [
      "+--------------------+------+\n",
      "|                hero| comic|\n",
      "+--------------------+------+\n",
      "|24-HOUR MAN/EMMANUEL|AA2 35|\n",
      "|3-D MAN/CHARLES CHAN| AVF 4|\n",
      "+--------------------+------+\n",
      "only showing top 2 rows\n",
      "\n"
     ]
    }
   ],
   "source": [
    "marvel_edges_df.show(2)"
   ]
  },
  {
   "cell_type": "markdown",
   "id": "3f37cc41",
   "metadata": {},
   "source": [
    "##### Get nodeId's for each Hero and Comic"
   ]
  },
  {
   "cell_type": "code",
   "execution_count": 32,
   "id": "d379e054",
   "metadata": {},
   "outputs": [
    {
     "name": "stdout",
     "output_type": "stream",
     "text": [
      "+-----------+------+\n",
      "|nodeId_hero| comic|\n",
      "+-----------+------+\n",
      "|          1|AA2 35|\n",
      "|          2| AVF 4|\n",
      "|          2| AVF 5|\n",
      "|          2| COC 1|\n",
      "|          2|H2 251|\n",
      "+-----------+------+\n",
      "only showing top 5 rows\n",
      "\n"
     ]
    }
   ],
   "source": [
    "marvel_hero_interim_df = (marvel_edges_df.join(marvels_hero_node_df,F.col(\"name\") == F.col(\"hero\"), \"inner\").select(\n",
    "                                                                                        F.col(\"nodeId\").alias('nodeId_hero'),\n",
    "                                                                                        F.col(\"comic\")))\n",
    "marvel_hero_interim_df.show(5)"
   ]
  },
  {
   "cell_type": "code",
   "execution_count": 33,
   "id": "253fd32e",
   "metadata": {},
   "outputs": [
    {
     "name": "stdout",
     "output_type": "stream",
     "text": [
      "+-----------+------------+\n",
      "|nodeId_hero|nodeId_comic|\n",
      "+-----------+------------+\n",
      "|          1|         510|\n",
      "|          2|        1388|\n",
      "|          2|        1389|\n",
      "|          2|        2410|\n",
      "|          2|        4745|\n",
      "+-----------+------------+\n",
      "only showing top 5 rows\n",
      "\n"
     ]
    }
   ],
   "source": [
    "marvel_relation_AppearedIn_df = marvel_hero_interim_df.join(marvels_comic_node_df,F.col(\"comic\") == F.col(\"name\"), \"inner\").select(F.col(\"nodeId_hero\"),\n",
    "                                                                                                F.col(\"nodeId\").alias(\"nodeId_comic\"))\n",
    "\n",
    "marvel_relation_AppearedIn_df.show(5)"
   ]
  },
  {
   "cell_type": "code",
   "execution_count": 34,
   "id": "3276d773",
   "metadata": {},
   "outputs": [
    {
     "name": "stdout",
     "output_type": "stream",
     "text": [
      "Total 96104 Relations/edges (Appeared_In) are found\n"
     ]
    }
   ],
   "source": [
    "#Total Relations (Appeared_In) are \n",
    "print(f\"Total {marvel_relation_AppearedIn_df.count()} Relations/edges (Appeared_In) are found\")"
   ]
  },
  {
   "cell_type": "code",
   "execution_count": 35,
   "id": "66201d22",
   "metadata": {},
   "outputs": [],
   "source": [
    "# marvel_relation_AppearedIn_df \\\n",
    "#         .write \\\n",
    "#         .format(\"org.neo4j.spark.DataSource\") \\\n",
    "#         .option(\"url\", \"bolt://0.0.0.0:7687\") \\\n",
    "#         .option(\"authentication.type\", \"basic\") \\\n",
    "#         .option(\"authentication.basic.username\", \"neo4j\") \\\n",
    "#         .option(\"authentication.basic.password\", \"1234512345\") \\\n",
    "#         .option(\"relationship\", \"APPEARED_IN\") \\\n",
    "#         .option(\"relationship.save.strategy\", \"keys\") \\\n",
    "#         .option(\"relationship.source.labels\", \":Hero\") \\\n",
    "#         .option(\"relationship.source.node.keys\", \"nodeId_hero:nodeId\") \\\n",
    "#         .option(\"relationship.source.save.mode\", \"Overwrite\") \\\n",
    "#         .option(\"relationship.target.labels\", \":Comic\") \\\n",
    "#         .option(\"relationship.target.node.keys\", \"nodeId_comic:nodeId\") \\\n",
    "#         .option(\"relationship.target.save.mode\", \"Overwrite\") \\\n",
    "#         .mode(\"Overwrite\") \\\n",
    "#         .save()\n"
   ]
  },
  {
   "cell_type": "markdown",
   "id": "be29c5be",
   "metadata": {},
   "source": [
    "## Write Hero --> Appeared with-> Hero (Relations/Edges )\n"
   ]
  },
  {
   "cell_type": "code",
   "execution_count": 36,
   "id": "4459796e",
   "metadata": {},
   "outputs": [
    {
     "name": "stdout",
     "output_type": "stream",
     "text": [
      "+--------------------+--------------------+-----------------+\n",
      "|               hero1|               hero2|duplicate_network|\n",
      "+--------------------+--------------------+-----------------+\n",
      "|       LITTLE, ABNER|      PRINCESS ZANDA|            False|\n",
      "|       LITTLE, ABNER|BLACK PANTHER/T'CHAL|            False|\n",
      "|BLACK PANTHER/T'CHAL|      PRINCESS ZANDA|            False|\n",
      "|       LITTLE, ABNER|      PRINCESS ZANDA|            False|\n",
      "|       LITTLE, ABNER|BLACK PANTHER/T'CHAL|            False|\n",
      "+--------------------+--------------------+-----------------+\n",
      "only showing top 5 rows\n",
      "\n"
     ]
    }
   ],
   "source": [
    "marvel_network_df.show(5)"
   ]
  },
  {
   "cell_type": "code",
   "execution_count": 37,
   "id": "05044f56",
   "metadata": {},
   "outputs": [],
   "source": [
    "## selecting unique relations\n",
    "marvel_hero_network_unique_df = marvel_network_df.where(F.col(\"duplicate_network\") == 'False').drop(F.col(\"duplicate_network\"))"
   ]
  },
  {
   "cell_type": "code",
   "execution_count": 38,
   "id": "26e04c26",
   "metadata": {},
   "outputs": [
    {
     "name": "stdout",
     "output_type": "stream",
     "text": [
      "+--------------------+--------------------+\n",
      "|               hero1|               hero2|\n",
      "+--------------------+--------------------+\n",
      "|       LITTLE, ABNER|      PRINCESS ZANDA|\n",
      "|       LITTLE, ABNER|BLACK PANTHER/T'CHAL|\n",
      "|BLACK PANTHER/T'CHAL|      PRINCESS ZANDA|\n",
      "+--------------------+--------------------+\n",
      "only showing top 3 rows\n",
      "\n"
     ]
    }
   ],
   "source": [
    "marvel_hero_network_unique_df.show(3)"
   ]
  },
  {
   "cell_type": "code",
   "execution_count": 39,
   "id": "2565ec66",
   "metadata": {},
   "outputs": [
    {
     "data": {
      "text/plain": [
       "224099"
      ]
     },
     "execution_count": 39,
     "metadata": {},
     "output_type": "execute_result"
    }
   ],
   "source": [
    "## Dropping duplicate network records\n",
    "\n",
    "marvel_hero_network_final_df = marvel_hero_network_unique_df.distinct()\n",
    "marvel_hero_network_final_df.count()"
   ]
  },
  {
   "cell_type": "code",
   "execution_count": 40,
   "id": "82dcb8c5",
   "metadata": {},
   "outputs": [
    {
     "name": "stdout",
     "output_type": "stream",
     "text": [
      "+-------------------+--------------------+\n",
      "|              hero1|               hero2|\n",
      "+-------------------+--------------------+\n",
      "|   ROM, SPACEKNIGHT|       RESTON, CLIVE|\n",
      "|               UATU|THING/BENJAMIN J. GR|\n",
      "|ANDROMEDA/ANDROMEDA|     CAPTAIN AMERICA|\n",
      "+-------------------+--------------------+\n",
      "only showing top 3 rows\n",
      "\n"
     ]
    }
   ],
   "source": [
    "marvel_hero_network_final_df.show(3)"
   ]
  },
  {
   "cell_type": "markdown",
   "id": "c08d03d2",
   "metadata": {},
   "source": [
    "##### Get Hero nodeid's"
   ]
  },
  {
   "cell_type": "code",
   "execution_count": 41,
   "id": "9998f80d",
   "metadata": {},
   "outputs": [
    {
     "name": "stdout",
     "output_type": "stream",
     "text": [
      "+--------------------+----+------+\n",
      "|                name|type|nodeId|\n",
      "+--------------------+----+------+\n",
      "|24-HOUR MAN/EMMANUEL|hero|     1|\n",
      "|3-D MAN/CHARLES CHAN|hero|     2|\n",
      "|    4-D MAN/MERCURIO|hero|     3|\n",
      "+--------------------+----+------+\n",
      "only showing top 3 rows\n",
      "\n"
     ]
    }
   ],
   "source": [
    "marvels_hero_node_df.show(3)"
   ]
  },
  {
   "cell_type": "code",
   "execution_count": 42,
   "id": "117d0e0b",
   "metadata": {},
   "outputs": [
    {
     "name": "stdout",
     "output_type": "stream",
     "text": [
      "+------------+------------+\n",
      "|nodeId_hero1|nodeId_hero2|\n",
      "+------------+------------+\n",
      "|        4727|        4622|\n",
      "|        5917|        5704|\n",
      "|         127|         858|\n",
      "+------------+------------+\n",
      "only showing top 3 rows\n",
      "\n"
     ]
    }
   ],
   "source": [
    "marvel_network_df1 = marvel_hero_network_final_df.join(marvels_hero_node_df,F.col(\"hero1\") == F.col(\"name\"), \"inner\").select(\n",
    "                                                                                        F.col(\"nodeId\").alias('nodeId_hero1'),\n",
    "                                                                                        F.col(\"hero2\"))\n",
    "marvel_network_df_final = marvel_network_df1.join(marvels_hero_node_df,F.col(\"hero2\") == F.col(\"name\"), \"inner\").select(\n",
    "                                                                                        F.col(\"nodeId_hero1\"),\n",
    "                                                                                        F.col(\"nodeId\").alias('nodeId_hero2'))\n",
    "\n",
    "marvel_network_df_final.show(3)"
   ]
  },
  {
   "cell_type": "code",
   "execution_count": 43,
   "id": "840243a3",
   "metadata": {},
   "outputs": [
    {
     "data": {
      "text/plain": [
       "224012"
      ]
     },
     "execution_count": 43,
     "metadata": {},
     "output_type": "execute_result"
    }
   ],
   "source": [
    "marvel_network_df_final.count()"
   ]
  }
 ],
 "metadata": {
  "kernelspec": {
   "display_name": "Python 3 (ipykernel)",
   "language": "python",
   "name": "python3"
  },
  "language_info": {
   "codemirror_mode": {
    "name": "ipython",
    "version": 3
   },
   "file_extension": ".py",
   "mimetype": "text/x-python",
   "name": "python",
   "nbconvert_exporter": "python",
   "pygments_lexer": "ipython3",
   "version": "3.9.7"
  }
 },
 "nbformat": 4,
 "nbformat_minor": 5
}
