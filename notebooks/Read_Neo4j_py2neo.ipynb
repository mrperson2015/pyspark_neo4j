{
 "cells": [
  {
   "cell_type": "code",
   "execution_count": 11,
   "id": "12ed88d5-a864-4582-b6a0-7455ffd9d04c",
   "metadata": {
    "tags": []
   },
   "outputs": [
    {
     "name": "stdout",
     "output_type": "stream",
     "text": [
      "Collecting package metadata (current_repodata.json): done\n",
      "Solving environment: done\n",
      "\n",
      "\n",
      "==> WARNING: A newer version of conda exists. <==\n",
      "  current version: 4.10.3\n",
      "  latest version: 4.13.0\n",
      "\n",
      "Please update conda by running\n",
      "\n",
      "    $ conda update -n base conda\n",
      "\n",
      "\n",
      "\n",
      "# All requested packages already installed.\n",
      "\n"
     ]
    }
   ],
   "source": [
    "! conda install py2neo -y"
   ]
  },
  {
   "cell_type": "code",
   "execution_count": 12,
   "id": "1928e3b5-4f36-48c2-9fc0-138db81f2cbc",
   "metadata": {
    "tags": []
   },
   "outputs": [
    {
     "name": "stdout",
     "output_type": "stream",
     "text": [
      "Collecting package metadata (current_repodata.json): done\n",
      "Solving environment: done\n",
      "\n",
      "\n",
      "==> WARNING: A newer version of conda exists. <==\n",
      "  current version: 4.10.3\n",
      "  latest version: 4.13.0\n",
      "\n",
      "Please update conda by running\n",
      "\n",
      "    $ conda update -n base conda\n",
      "\n",
      "\n",
      "\n",
      "# All requested packages already installed.\n",
      "\n"
     ]
    }
   ],
   "source": [
    "! conda install monotonic -y"
   ]
  },
  {
   "cell_type": "code",
   "execution_count": 13,
   "id": "98a6b5ee",
   "metadata": {},
   "outputs": [],
   "source": [
    "# imports  - to connect to neo4j DB\n",
    "from py2neo import Graph,Node,Relationship\n"
   ]
  },
  {
   "cell_type": "markdown",
   "id": "ff535f29",
   "metadata": {},
   "source": [
    "## Connect to NEO4J Database using py2neo (Neo4j's Python drivers)\n"
   ]
  },
  {
   "cell_type": "code",
   "execution_count": 14,
   "id": "1e80e74d",
   "metadata": {},
   "outputs": [],
   "source": [
    "graph = Graph(\"http://neo4j:7474/\", auth=(\"neo4j\", \"test\"))"
   ]
  },
  {
   "cell_type": "code",
   "execution_count": 15,
   "id": "b536ac5e",
   "metadata": {},
   "outputs": [
    {
     "name": "stdout",
     "output_type": "stream",
     "text": [
      "Total Nodes: 6467\n"
     ]
    }
   ],
   "source": [
    "hero_data_count = \"MATCH (n:Hero) RETURN count(n)\"\n",
    "results = graph.evaluate(hero_data_count)\n",
    "print(f\"Total Nodes: {results}\")"
   ]
  },
  {
   "cell_type": "code",
   "execution_count": 16,
   "id": "cf8efe3b",
   "metadata": {},
   "outputs": [
    {
     "name": "stdout",
     "output_type": "stream",
     "text": [
      "859\t'CAPTAIN AMERICA'\n",
      "5306\t'SPIDER-MAN/PETER PAR'\n",
      "2664\t'IRON MAN/TONY STARK '\n",
      "5716\t'THING/BENJAMIN J. GR'\n",
      "6306\t'WOLVERINE/LOGAN '\n",
      "3805\t'MR. FANTASTIC/REED R'\n"
     ]
    }
   ],
   "source": [
    "hero_data = \"MATCH (n:Hero) RETURN n.id as ID,n.name as Name LIMIT 6\"\n",
    "result = graph.run(hero_data)\n",
    "for each in result:\n",
    "    print(each)"
   ]
  },
  {
   "cell_type": "code",
   "execution_count": 17,
   "id": "940f7edc",
   "metadata": {},
   "outputs": [],
   "source": [
    "## print Hero names who has 1500+ appearances\n",
    "query_custom = \"\"\"MATCH (hero:Hero)\n",
    "WHERE hero.appearances > 1500 RETURN hero.name\"\"\"\n",
    "\n",
    "appear_result = graph.run(query_custom)"
   ]
  },
  {
   "cell_type": "code",
   "execution_count": 18,
   "id": "d6dab314",
   "metadata": {},
   "outputs": [],
   "source": [
    "adf = appear_result.to_data_frame()"
   ]
  },
  {
   "cell_type": "code",
   "execution_count": 19,
   "id": "0c560289",
   "metadata": {},
   "outputs": [
    {
     "data": {
      "text/html": [
       "<div>\n",
       "<style scoped>\n",
       "    .dataframe tbody tr th:only-of-type {\n",
       "        vertical-align: middle;\n",
       "    }\n",
       "\n",
       "    .dataframe tbody tr th {\n",
       "        vertical-align: top;\n",
       "    }\n",
       "\n",
       "    .dataframe thead th {\n",
       "        text-align: right;\n",
       "    }\n",
       "</style>\n",
       "<table border=\"1\" class=\"dataframe\">\n",
       "  <thead>\n",
       "    <tr style=\"text-align: right;\">\n",
       "      <th></th>\n",
       "      <th>hero.name</th>\n",
       "    </tr>\n",
       "  </thead>\n",
       "  <tbody>\n",
       "    <tr>\n",
       "      <th>0</th>\n",
       "      <td>CAPTAIN AMERICA</td>\n",
       "    </tr>\n",
       "    <tr>\n",
       "      <th>1</th>\n",
       "      <td>SPIDER-MAN/PETER PAR</td>\n",
       "    </tr>\n",
       "    <tr>\n",
       "      <th>2</th>\n",
       "      <td>IRON MAN/TONY STARK</td>\n",
       "    </tr>\n",
       "  </tbody>\n",
       "</table>\n",
       "</div>"
      ],
      "text/plain": [
       "              hero.name\n",
       "0       CAPTAIN AMERICA\n",
       "1  SPIDER-MAN/PETER PAR\n",
       "2  IRON MAN/TONY STARK "
      ]
     },
     "execution_count": 19,
     "metadata": {},
     "output_type": "execute_result"
    }
   ],
   "source": [
    "adf.head()"
   ]
  },
  {
   "cell_type": "markdown",
   "id": "b4657c0f",
   "metadata": {},
   "source": [
    "# Parameterized Cypher\n",
    "#####  Pass parameters to Cypher queries by passing additional key-value arguments to Graph.cypher.execute. Parameters in Cypher are named and are wrapped in curly braces."
   ]
  },
  {
   "cell_type": "code",
   "execution_count": 20,
   "id": "728a3b7a",
   "metadata": {},
   "outputs": [
    {
     "data": {
      "text/html": [
       "<table><tr><th>Name</th></tr><tr><td style=\"text-align:left\">SPIDER-MAN/PETER PAR</td></tr><tr><td style=\"text-align:left\">IRON MAN/TONY STARK </td></tr></table>"
      ],
      "text/plain": [
       " Name                 \n",
       "----------------------\n",
       " SPIDER-MAN/PETER PAR \n",
       " IRON MAN/TONY STARK  "
      ]
     },
     "execution_count": 20,
     "metadata": {},
     "output_type": "execute_result"
    }
   ],
   "source": [
    "## Get hero names who has appearances > 1500 and also has a relation with Captain America\n",
    "query2 = \"\"\"\n",
    "MATCH (hero:Hero)-[relation:KNOWS]->(n:Hero)\n",
    "where hero.name = $name and n.appearances > 1500 and hero <> n RETURN n.name as Name\n",
    "\"\"\"\n",
    "\n",
    "graph.run(query2, name=\"CAPTAIN AMERICA\")"
   ]
  }
 ],
 "metadata": {
  "kernelspec": {
   "display_name": "Python 3 (ipykernel)",
   "language": "python",
   "name": "python3"
  },
  "language_info": {
   "codemirror_mode": {
    "name": "ipython",
    "version": 3
   },
   "file_extension": ".py",
   "mimetype": "text/x-python",
   "name": "python",
   "nbconvert_exporter": "python",
   "pygments_lexer": "ipython3",
   "version": "3.9.7"
  }
 },
 "nbformat": 4,
 "nbformat_minor": 5
}
